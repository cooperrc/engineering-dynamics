{
 "cells": [
  {
   "cell_type": "code",
   "execution_count": 1,
   "id": "b63642eb",
   "metadata": {
    "tags": [
     "hide-cell"
    ]
   },
   "outputs": [
    {
     "ename": "ModuleNotFoundError",
     "evalue": "No module named 'matplotlib'",
     "output_type": "error",
     "traceback": [
      "\u001b[0;31m---------------------------------------------------------------------------\u001b[0m",
      "\u001b[0;31mModuleNotFoundError\u001b[0m                       Traceback (most recent call last)",
      "Input \u001b[0;32mIn [1]\u001b[0m, in \u001b[0;36m<cell line: 2>\u001b[0;34m()\u001b[0m\n\u001b[1;32m      1\u001b[0m \u001b[38;5;28;01mimport\u001b[39;00m \u001b[38;5;21;01mnumpy\u001b[39;00m \u001b[38;5;28;01mas\u001b[39;00m \u001b[38;5;21;01mnp\u001b[39;00m\n\u001b[0;32m----> 2\u001b[0m \u001b[38;5;28;01mimport\u001b[39;00m \u001b[38;5;21;01mmatplotlib\u001b[39;00m\u001b[38;5;21;01m.\u001b[39;00m\u001b[38;5;21;01mpyplot\u001b[39;00m \u001b[38;5;28;01mas\u001b[39;00m \u001b[38;5;21;01mplt\u001b[39;00m\n\u001b[1;32m      3\u001b[0m \u001b[38;5;28;01mfrom\u001b[39;00m \u001b[38;5;21;01mscipy\u001b[39;00m\u001b[38;5;21;01m.\u001b[39;00m\u001b[38;5;21;01mintegrate\u001b[39;00m \u001b[38;5;28;01mimport\u001b[39;00m odeint\n\u001b[1;32m      4\u001b[0m plt\u001b[38;5;241m.\u001b[39mstyle\u001b[38;5;241m.\u001b[39muse(\u001b[38;5;124m'\u001b[39m\u001b[38;5;124mfivethirtyeight\u001b[39m\u001b[38;5;124m'\u001b[39m)\n",
      "\u001b[0;31mModuleNotFoundError\u001b[0m: No module named 'matplotlib'"
     ]
    }
   ],
   "source": [
    "import numpy as np\n",
    "import matplotlib.pyplot as plt\n",
    "from scipy.integrate import odeint\n",
    "plt.style.use('fivethirtyeight')"
   ]
  },
  {
   "cell_type": "markdown",
   "id": "92eee7a9",
   "metadata": {},
   "source": [
    "# Numerical Solution of Yoyo despinning\n",
    "\n",
    "![Yoyo Despin on a track](./yoyo-despin_01.svg)"
   ]
  },
  {
   "cell_type": "markdown",
   "id": "fcf6f7df",
   "metadata": {},
   "source": [
    "The image above shows a proposed yoyo despin mechanism that has two\n",
    "masses attached to a sliding track that keeps the two small masses, $m$, \n",
    "in line with the larger cylindrical mass, $M$. \n",
    "\n",
    "$\\ddot{r} = r \\dot{\\theta}^2$\n",
    "\n",
    "$\\ddot{r} = r\\left(\\frac{2mr_0^2+MR^2/2}{2mr^2+MR^2/2}\\right)^2 \\dot{\\theta}(0)$\n",
    "\n",
    "where $\\dot{\\theta} = \\Omega(t)$"
   ]
  },
  {
   "cell_type": "markdown",
   "id": "ccb53f16",
   "metadata": {},
   "source": [
    "Here you plot the relation between angular velocity and distance from center of cylinder just based upon conservation of angular momentum:"
   ]
  },
  {
   "cell_type": "code",
   "execution_count": null,
   "id": "0ee67c76",
   "metadata": {},
   "outputs": [],
   "source": [
    "m=0.1 #kg\n",
    "M=1 #kg\n",
    "R=0.1 #meter\n",
    "w0=10 # rad/s\n",
    "r=np.linspace(0.1,2)\n",
    "h0=(2*m*r[0]**2+M*r[0]**2/2)*w0\n",
    "\n",
    "wt = h0/(2*m*r**2+M*R**2/2)\n",
    "\n",
    "plt.plot(r,wt)\n",
    "plt.xlabel('yoyo distance (m)')\n",
    "plt.ylabel('angular velocity (rad/s)')\n",
    "plt.title('conservation of angular momentum\\n h=constant');"
   ]
  },
  {
   "cell_type": "markdown",
   "id": "5c87e1ae",
   "metadata": {},
   "source": [
    "## Define the state and d/dt(state)\n",
    "\n",
    "In this part, we define the second order differential equation as a state-space form\n",
    "\n",
    "the state = $[r,~\\dot{r}]$\n",
    "\n",
    "and the derivative of the state is\n",
    "\n",
    "d/dt(state) = $[\\dot{r},~\\ddot{r}]=[\\dot{r},~\\frac{F_r}{m}]$\n",
    "\n",
    "We call the function, `yoyo_ode(y,t)`, where `y` is the state and `t` is the current time."
   ]
  },
  {
   "cell_type": "code",
   "execution_count": null,
   "id": "bb54cc68",
   "metadata": {},
   "outputs": [],
   "source": [
    "def yoyo_ode(y,t):\n",
    "    '''define d2r/dt2= r*(h0/2m)^2/(M*R^2/4m+r^2)^2'''\n",
    "    dr=np.zeros(np.shape(y))\n",
    "    dr[0]=y[1]\n",
    "    dr[1]=y[0]*h0**2/(2*m*y[0]**2+M*R**2/2)**2\n",
    "    return dr"
   ]
  },
  {
   "cell_type": "code",
   "execution_count": null,
   "id": "bb6ff68b",
   "metadata": {},
   "outputs": [],
   "source": [
    "yoyo_ode([0.15,1],0)"
   ]
  },
  {
   "cell_type": "markdown",
   "id": "ae6b99f6",
   "metadata": {},
   "source": [
    "The function `odeint` integrates our `yoyo_ode` based upon the initial condtions, \n",
    "\n",
    "$[r(0),~\\dot{r}(0)] = [0.1~m,~0~m/s]$\n",
    "\n",
    "and the time span of interest, \n",
    "\n",
    "$t = [0-0.5~s]$\n",
    "\n",
    "in the line, `t=np.linspace(0,0.5)`"
   ]
  },
  {
   "cell_type": "code",
   "execution_count": null,
   "id": "c1e42845",
   "metadata": {},
   "outputs": [],
   "source": [
    "t=np.linspace(0,0.5)\n",
    "r=odeint(yoyo_ode,[0.1,0],t)\n",
    "\n",
    "plt.plot(t,r[:,0])\n",
    "plt.xlabel('time (s)')\n",
    "plt.ylabel('yoyo pos (m)')"
   ]
  },
  {
   "cell_type": "markdown",
   "id": "2df1df0c",
   "metadata": {},
   "source": [
    "## To save to file from python output\n",
    "\n",
    "Have to join the time, $r$, and $\\dot{r}$ into an array then save to a file:"
   ]
  },
  {
   "cell_type": "code",
   "execution_count": null,
   "id": "cce1c8b8",
   "metadata": {},
   "outputs": [],
   "source": [
    "np.savetxt('t_r_rdot.csv',np.array([t,r[:,0],r[:,1]]).T,delimiter=',')"
   ]
  },
  {
   "cell_type": "markdown",
   "id": "37406461",
   "metadata": {},
   "source": [
    "This line of code organizes a comma-separated-value file into the file t_r_rdot.csv with no headers.\n",
    "\n",
    "|time (s)| r (m) | $\\dot{r}$ (m/s)|\n",
    "|---|---|---|\n",
    "|0| 0.1| 0 |\n",
    "|...|...|...|"
   ]
  }
 ],
 "metadata": {
  "jupytext": {
   "text_representation": {
    "extension": ".md",
    "format_name": "myst",
    "format_version": 0.13,
    "jupytext_version": "1.10.3"
   }
  },
  "kernelspec": {
   "display_name": "Python 3",
   "language": "python",
   "name": "python3"
  },
  "language_info": {
   "codemirror_mode": {
    "name": "ipython",
    "version": 3
   },
   "file_extension": ".py",
   "mimetype": "text/x-python",
   "name": "python",
   "nbconvert_exporter": "python",
   "pygments_lexer": "ipython3",
   "version": "3.9.0"
  },
  "source_map": [
   14,
   21,
   27,
   39,
   43,
   57,
   71,
   80,
   82,
   94,
   101,
   107,
   109
  ]
 },
 "nbformat": 4,
 "nbformat_minor": 5
}