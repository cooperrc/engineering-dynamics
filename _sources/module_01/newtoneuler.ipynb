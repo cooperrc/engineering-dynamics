{
 "cells": [
  {
   "cell_type": "code",
   "execution_count": 7,
   "metadata": {
    "tags": [
     "hide-cell"
    ]
   },
   "outputs": [],
   "source": [
    "import numpy as np\n",
    "import matplotlib.pyplot as plt\n",
    "plt.style.use('fivethirtyeight')"
   ]
  },
  {
   "cell_type": "markdown",
   "metadata": {},
   "source": [
    "# The Newton-Euler equations\n",
    "\n",
    "Engineering mechanics uses 6 equations of motion to describe the\n",
    "relationship between applied forces and moments to the motion of rigid\n",
    "bodies. These 6 equations are the _Newton-Euler_ kinetic equations, you\n",
    "can write the equations succinctly as vector-relationships between\n",
    "forces and acceleration as \n",
    "\n",
    "- $\\mathbf{F} = m\\mathbf{a}$ equations 1-3\n",
    "- $\\mathbf{M}_{G} = \\frac{d}{dt}\\mathbf{h}_G$ equations 4-6\n",
    "\n",
    "where $\\mathbf{F}$ is the resultant sum of forces on a rigid body,\n",
    "$\\mathbf{M}_{G}$ is the resultant sum of moments about a rigid body's\n",
    "center of mass, and $\\mathbf{h}_G is the _angular momentum_ of a rigid\n",
    "body. Angular momentum is a description of the inertia in a rigid body\n",
    "due to spinning. To start, we are limiting our study to 3-DOF planar\n",
    "rigid body motion. This simplifies the Newton-Euler equation to 3\n",
    "coupled differential equations as such, \n",
    "\n",
    "1. $\\mathbf{F}\\cdot\\hat{e}_1 = m\\mathbf{a}\\cdot\\hat{e}_1$ \n",
    "2. $\\mathbf{F}\\cdot\\hat{e}_2 = m\\mathbf{a}\\cdot\\hat{e}_2$ \n",
    "3. $\\mathbf{M}_{G}\\cdot\\hat{e}_3 = I_{zz}\\alpha$\n",
    "\n",
    "where $\\hat{e}_{1},~\\hat{e}_{2},$ and $\\hat{e}_{3}$ are three orthogonal\n",
    "unit vectors, $I_{zz}$ is the moment of inertia for the rigid body, and\n",
    "$\\alpha$ is the angular acceleration of the rigid body. Every rigid body\n",
    "in an engineering system can be described by the Newton-Euler equations. \n",
    "\n",
    "> __Note:__ The mass of an object describes how difficult it is to move\n",
    "> it in a straight line. The moment of inertia describes how difficult\n",
    "> it is to rotate an object. The units for moment of inertia are\n",
    "> $kg-m^2$ (in SI). A quick explanation of moment of inertia is that it\n",
    "> is the variance in the center of mass. \n",
    "\n",
    "## Example\n",
    "\n",
    "Consider a baseball that is thrown. It has an initial velocity of 6 m/s\n",
    "at an angle of 60$^o$ from the ground and its rotating 10 times/sec.\n",
    "Determine the acceleration of the baseball and its maximum height. \n",
    "\n",
    "In this example, consider the three planar Newton-Euler equations by\n",
    "first drawing a Free Body Diagram as seen below. \n",
    "\n",
    "![baseball FBD](./images/baseball_FBD.svg)\n",
    "\n",
    "The force of gravity acts over the entire object equally and no other\n",
    "forces are present. Now, write out the 3 Newton-Euler equations\n",
    "\n",
    "> __Note:__ You will include force of drag, but for now just consider\n",
    "> the motion without drag. \n",
    "\n",
    "1. $0 = m\\ddot{x}$\n",
    "2. $-mg = m\\ddot{y}$\n",
    "3. $0 = I_{zz}\\ddot{\\theta}$\n",
    "\n",
    "Integrating the three equations, you get three equations to describe the\n",
    "position and angle of the baseball. \n",
    "\n",
    "1. $x(t) = x(0)+6\\cos\\frac{\\pi}{3}t$ \n",
    "2. $y(t) = y(0)+6\\sin\\frac{\\pi}{3}t-\\frac{gt^2}{2}$ \n",
    "3. $\\theta(t) = \\theta(0)+10\\frac{rot}{s}\\frac{2\\pi~rad}{rot}t$ \n",
    "\n"
   ]
  },
  {
   "cell_type": "code",
   "execution_count": 10,
   "metadata": {
    "tags": [
     "hide-input"
    ]
   },
   "outputs": [
    {
     "data": {
      "image/png": "[encoded data removed]",
      "text/plain": [
       "<Figure size 432x288 with 1 Axes>"
      ]
     },
     "metadata": {},
     "output_type": "display_data"
    }
   ],
   "source": [
    "t = np.linspace(0,1.1,10)\n",
    "x = 6*np.cos(np.pi/3)*t\n",
    "y = 6*np.sin(np.pi/3)*t-9.81*t**2/2\n",
    "theta = 10*2*np.pi*t\n",
    "plt.plot(x,y,'o')\n",
    "plt.xlabel('distance (m)')\n",
    "plt.ylabel('height (m)');"
   ]
  },
  {
   "cell_type": "markdown",
   "metadata": {},
   "source": [
    "A freefalling object does not have a force in the x-direction or an\n",
    "applied moment, so the angular acceleration is 0 rad/s/s. The ball will\n",
    "continue spinning until an external moment is applied e.g. another\n",
    "player's baseball mitt. \n",
    "\n",
    "## Describing kinetic properties\n",
    "\n",
    "The motion of the baseball, its path and its rotation, describes the\n",
    "__kinematics__ or _geometry of motion_. You can also use __kinetic__\n",
    "properties to describe moving object. The Newton-Euler create\n",
    "quantitative comparisons between __kinematic__ and __kinetic__\n",
    "properties. \n",
    "\n",
    "The first __kinetic__ property is the _Forces_ acting on the baseball:\n",
    "\n",
    "$\\mathbf{F} = 0\\hat{i} - mg\\hat{j}$. \n",
    "\n",
    "where $\\mathbf{F}$ is the _force_ acting on the baseball. A _force_ is a\n",
    "vector quantity with magnitude and direction or another way to state\n",
    "this is that it has components along each unit vector. "
   ]
  }
 ],
 "metadata": {
  "kernelspec": {
   "display_name": "Python 3",
   "language": "python",
   "name": "python3"
  },
  "language_info": {
   "codemirror_mode": {
    "name": "ipython",
    "version": 3
   },
   "file_extension": ".py",
   "mimetype": "text/x-python",
   "name": "python",
   "nbconvert_exporter": "python",
   "pygments_lexer": "ipython3",
   "version": "3.8.3"
  }
 },
 "nbformat": 4,
 "nbformat_minor": 4
}
