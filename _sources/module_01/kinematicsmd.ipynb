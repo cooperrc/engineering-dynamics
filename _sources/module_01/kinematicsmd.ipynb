{
 "cells": [
  {
   "cell_type": "markdown",
   "id": "9279f997",
   "metadata": {},
   "source": [
    "# Geometry of motion - kinematics\n",
    "\n",
    "# Position\n",
    "\n",
    "Classical physics describes the position of an object using three\n",
    "independent coordinates e.g. \n",
    "\n",
    "$\\mathbf{r}_{P/O} = x\\hat{i} + y\\hat{j} + z\\hat{k}$\n",
    "\n",
    "where $\\mathbf{r}_{P/O}$ is the position of point $P$ _with respect to the point\n",
    "of origin_ $O$, $x,~y,~z$ are magnitudes of distance along a\n",
    "Cartesian coordinate system and $\\hat{i},~\\hat{j}$ and $\\hat{k}$ are\n",
    "unit vectors that describe three"
   ]
  },
  {
   "cell_type": "code",
   "execution_count": 1,
   "id": "173c6caf",
   "metadata": {
    "tags": [
     "remove-cell"
    ]
   },
   "outputs": [
    {
     "name": "stdout",
     "output_type": "stream",
     "text": [
      "[1 2 3]\n"
     ]
    }
   ],
   "source": [
    "import numpy as np\n",
    "r = np.array([1,2,3])\n",
    "print(r)"
   ]
  },
  {
   "cell_type": "markdown",
   "id": "bcf9c48e",
   "metadata": {},
   "source": [
    "# Velocity\n",
    "\n",
    "The velocity of an object is the change in position per length of time.\n",
    "\n",
    "$\\mathbf{v}_{P/O} = \\frac{d\\mathbf{r}_{P/O}}{dt} = \\dot{x}\\hat{i} + \\dot{y}\\hat{j} +\n",
    "\\dot{z}\\hat{k}$\n",
    "\n",
    "This definition of velocity depends upon the change in position of all\n",
    "three independent coordinates, where\n",
    "$\\frac{d}{dt}(x\\hat{i})=\\dot{x}\\hat{i}$. \n",
    "\n",
    "## Speed\n",
    "\n",
    "The speed of an object is the\n",
    "[magnitude](https://www.mathsisfun.com/algebra/vectors.html) of the\n",
    "velocity, \n",
    "\n",
    "$|\\mathbf{v}_{P/O}| = \\sqrt{\\mathbf{v}\\cdot\\mathbf{v}} =\n",
    "\\sqrt{\\dot{x}^2 + \\dot{y}^2 + \\dot{z}^2}$\n",
    "\n",
    "# Acceleration\n",
    "\n",
    "The acceleration of an object is the change in velocity per length of\n",
    "time. \n",
    "\n",
    "$\\mathbf{a}_{P/O} = \\frac{d \\mathbf{v}_{P/O} }{dt} = \\ddot{x}\\hat{i} +\n",
    "\\ddot{y}\\hat{j} + \\ddot{z}\\hat{k}$\n",
    "\n",
    "where $\\ddot{x}=\\frac{d^2 x}{dt^2}$ and $\\mathbf{a}_{P/O}$ is the\n",
    "acceleration of point $P$ _with respect to the point of origin_ $O$. \n",
    "\n",
    "# Rotation _in planar motion_\n",
    "\n",
    "The definitions of position, velocity, and acceleration all describe a\n",
    "single point, but dynamic engineering systems are composed of rigid\n",
    "bodies is needed to describe the position of an object. \n",
    "\n",
    "```python\n",
    "from IPython.core.display import SVG\n",
    "SVG(filename='../dyn-logo.svg')\n",
    "```"
   ]
  }
 ],
 "metadata": {
  "jupytext": {
   "formats": "md:myst",
   "text_representation": {
    "format_name": "myst"
   }
  },
  "kernelspec": {
   "display_name": "Python 3",
   "name": "python3"
  },
  "language_info": {
   "codemirror_mode": {
    "name": "ipython",
    "version": 3
   },
   "file_extension": ".py",
   "mimetype": "text/x-python",
   "name": "python",
   "nbconvert_exporter": "python",
   "pygments_lexer": "ipython3",
   "version": "3.9.0"
  },
  "source_map": [
   9,
   25,
   32
  ]
 },
 "nbformat": 4,
 "nbformat_minor": 5
}