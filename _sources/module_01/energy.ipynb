{
 "cells": [
  {
   "cell_type": "code",
   "execution_count": 1,
   "id": "52e7068d",
   "metadata": {},
   "outputs": [],
   "source": [
    "import numpy as np\n",
    "import matplotlib.pyplot as plt\n",
    "plt.style.use('fivethirtyeight')"
   ]
  },
  {
   "cell_type": "markdown",
   "id": "31aca1f2",
   "metadata": {},
   "source": [
    "# Work and energy\n",
    "\n",
    "The Newton-Euler equations relate forces to acceleration. Forces and\n",
    "accelrations are vector quantities. Work and energy are _scalar_\n",
    "quantities that result from \n",
    "\n",
    "- $\\mathbf{F} \\cdot d \\mathbf{r} = dW$\n",
    "- $m \\mathbf{a} \\cdot d \\mathbf{r} = dT$\n",
    "\n",
    "where $d \\mathbf{r}$ is the change position of an object and $dW$ is the\n",
    "work done to the object and $dT$ is the change in kinetic energy of\n",
    "object. \n",
    "\n",
    "## Conservation of energy\n",
    "\n",
    "The first law of thermodynamics \n",
    "\n",
    "$$T_1 + V_1 + W^{1\\rightarrow 2} = T_2 + V_2$$\n",
    "\n",
    "where \n",
    "\n",
    "- $T_1,~T_2$: kinetic energy\n",
    "- $V_1,~V_2$: potential energy\n",
    "- $W^{1\\rightarrow 2}: work done to the system (not included in the\n",
    "  potential energy changes)"
   ]
  }
 ],
 "metadata": {
  "jupytext": {
   "formats": "notebooks//ipynb,md:myst",
   "text_representation": {
    "extension": ".md",
    "format_name": "myst",
    "format_version": 0.13,
    "jupytext_version": "1.10.3"
   }
  },
  "kernelspec": {
   "display_name": "Python 3",
   "language": "python",
   "name": "python3"
  },
  "language_info": {
   "codemirror_mode": {
    "name": "ipython",
    "version": 3
   },
   "file_extension": ".py",
   "mimetype": "text/x-python",
   "name": "python",
   "nbconvert_exporter": "python",
   "pygments_lexer": "ipython3",
   "version": "3.9.0"
  },
  "source_map": [
   15,
   19
  ]
 },
 "nbformat": 4,
 "nbformat_minor": 5
}