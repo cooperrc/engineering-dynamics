{
 "cells": [
  {
   "cell_type": "code",
   "execution_count": 1,
   "id": "cbc6c330",
   "metadata": {},
   "outputs": [
    {
     "ename": "ModuleNotFoundError",
     "evalue": "No module named 'matplotlib'",
     "output_type": "error",
     "traceback": [
      "\u001b[0;31m---------------------------------------------------------------------------\u001b[0m",
      "\u001b[0;31mModuleNotFoundError\u001b[0m                       Traceback (most recent call last)",
      "Input \u001b[0;32mIn [1]\u001b[0m, in \u001b[0;36m<cell line: 2>\u001b[0;34m()\u001b[0m\n\u001b[1;32m      1\u001b[0m \u001b[38;5;28;01mimport\u001b[39;00m \u001b[38;5;21;01mnumpy\u001b[39;00m \u001b[38;5;28;01mas\u001b[39;00m \u001b[38;5;21;01mnp\u001b[39;00m\n\u001b[0;32m----> 2\u001b[0m \u001b[38;5;28;01mimport\u001b[39;00m \u001b[38;5;21;01mmatplotlib\u001b[39;00m\u001b[38;5;21;01m.\u001b[39;00m\u001b[38;5;21;01mpyplot\u001b[39;00m \u001b[38;5;28;01mas\u001b[39;00m \u001b[38;5;21;01mplt\u001b[39;00m\n\u001b[1;32m      3\u001b[0m plt\u001b[38;5;241m.\u001b[39mstyle\u001b[38;5;241m.\u001b[39muse(\u001b[38;5;124m'\u001b[39m\u001b[38;5;124mfivethirtyeight\u001b[39m\u001b[38;5;124m'\u001b[39m)\n",
      "\u001b[0;31mModuleNotFoundError\u001b[0m: No module named 'matplotlib'"
     ]
    }
   ],
   "source": [
    "import numpy as np\n",
    "import matplotlib.pyplot as plt\n",
    "plt.style.use('fivethirtyeight')"
   ]
  },
  {
   "cell_type": "markdown",
   "id": "941f19fa",
   "metadata": {},
   "source": [
    "# Work and energy\n",
    "\n",
    "The Newton-Euler equations relate forces to acceleration. Forces and\n",
    "accelrations are vector quantities. Work and energy are _scalar_\n",
    "quantities that result from \n",
    "\n",
    "- $\\mathbf{F} \\cdot d \\mathbf{r} = dW$\n",
    "- $m \\mathbf{a} \\cdot d \\mathbf{r} = dT$\n",
    "\n",
    "where $d \\mathbf{r}$ is the change position of an object and $dW$ is the\n",
    "work done to the object and $dT$ is the change in kinetic energy of\n",
    "object. \n",
    "\n",
    "## Conservation of energy\n",
    "\n",
    "The first law of thermodynamics \n",
    "\n",
    "$$T_1 + V_1 + W^{1\\rightarrow 2} = T_2 + V_2$$\n",
    "\n",
    "where \n",
    "\n",
    "- $T_1,~T_2$: kinetic energy\n",
    "- $V_1,~V_2$: potential energy\n",
    "- $W^{1\\rightarrow 2}: work done to the system (not included in the\n",
    "  potential energy changes)"
   ]
  }
 ],
 "metadata": {
  "jupytext": {
   "formats": "notebooks//ipynb,md:myst",
   "text_representation": {
    "extension": ".md",
    "format_name": "myst",
    "format_version": 0.13,
    "jupytext_version": "1.10.3"
   }
  },
  "kernelspec": {
   "display_name": "Python 3",
   "language": "python",
   "name": "python3"
  },
  "language_info": {
   "codemirror_mode": {
    "name": "ipython",
    "version": 3
   },
   "file_extension": ".py",
   "mimetype": "text/x-python",
   "name": "python",
   "nbconvert_exporter": "python",
   "pygments_lexer": "ipython3",
   "version": "3.9.0"
  },
  "source_map": [
   15,
   19
  ]
 },
 "nbformat": 4,
 "nbformat_minor": 5
}