{
 "cells": [
  {
   "cell_type": "code",
   "execution_count": 1,
   "id": "a5eb3e03",
   "metadata": {},
   "outputs": [
    {
     "ename": "ModuleNotFoundError",
     "evalue": "No module named 'matplotlib'",
     "output_type": "error",
     "traceback": [
      "\u001b[0;31m---------------------------------------------------------------------------\u001b[0m",
      "\u001b[0;31mModuleNotFoundError\u001b[0m                       Traceback (most recent call last)",
      "Input \u001b[0;32mIn [1]\u001b[0m, in \u001b[0;36m<cell line: 2>\u001b[0;34m()\u001b[0m\n\u001b[1;32m      1\u001b[0m \u001b[38;5;28;01mimport\u001b[39;00m \u001b[38;5;21;01mnumpy\u001b[39;00m \u001b[38;5;28;01mas\u001b[39;00m \u001b[38;5;21;01mnp\u001b[39;00m\n\u001b[0;32m----> 2\u001b[0m \u001b[38;5;28;01mimport\u001b[39;00m \u001b[38;5;21;01mmatplotlib\u001b[39;00m\u001b[38;5;21;01m.\u001b[39;00m\u001b[38;5;21;01mpyplot\u001b[39;00m \u001b[38;5;28;01mas\u001b[39;00m \u001b[38;5;21;01mplt\u001b[39;00m\n\u001b[1;32m      3\u001b[0m plt\u001b[38;5;241m.\u001b[39mstyle\u001b[38;5;241m.\u001b[39muse(\u001b[38;5;124m'\u001b[39m\u001b[38;5;124mfivethirtyeight\u001b[39m\u001b[38;5;124m'\u001b[39m)\n",
      "\u001b[0;31mModuleNotFoundError\u001b[0m: No module named 'matplotlib'"
     ]
    }
   ],
   "source": [
    "import numpy as np\n",
    "import matplotlib.pyplot as plt\n",
    "plt.style.use('fivethirtyeight')"
   ]
  },
  {
   "cell_type": "markdown",
   "id": "66fa88dc",
   "metadata": {},
   "source": [
    "# Galileo's rolling experiment\n",
    "\n",
    "Galileo is credited with creating the field of kinematics. One of his\n",
    "earliest experiments was to measure the position and speed of a ball\n",
    "rolling on an incline plane. He determined that the position was\n",
    "proportional to the square of time. This means that the motion is\n",
    "described by constant acceleration. \n",
    "\n",
    "## Kinematics of rolling\n",
    "\n",
    "Here, consider a lacrosse ball rolling on a slope. Before you create\n",
    "the equations of motion for the ball, consider the kinematics of a\n",
    "rolling ball. The point-of-contact between the ground and ball has the\n",
    "same velocity both on the ball and the ground. The ground isn't moving,\n",
    "so the point-of-contact isn't moving. \n",
    "\n",
    "In order to move forward, the ball rotates. One rotation is one\n",
    "circumference of the sphere. You can write this as a _kinematic\n",
    "constraint_ as such\n",
    "\n",
    "$$d = -R\\theta$$\n",
    "\n",
    "where $d$ is the distance along the slope, $R=??$ is the radius of the\n",
    "ball, and $\\theta$ is the angle that the ball has rotated\n",
    "counterclockwise _thus the negative sign_. This\n",
    "constraint equation also relates the speed and acceleration of the ball\n",
    "to its rotation rate as such, \n",
    "\n",
    "- velocity: $v=-R\\dot{\\theta}$\n",
    "- acceleration: $a = -R\\ddot{\\theta}$. \n",
    "\n",
    "These are general constraints for an object that rolls without slipping. \n",
    "\n",
    "## Kinetics of rolling\n",
    "\n",
    "The ball rolls down an incline of 5$^o$. Start with the free body\n",
    "diagram. \n",
    "\n",
    "![ball rolling FBD](./images/ball-rolling_FBD.svg)\n",
    "\n",
    "Using the Newton-Euler equations for planar motion, you have three\n",
    "equations, \n",
    "\n",
    "1. $mg\\sin\\alpha - F_f = m\\ddot{x}$\n",
    "2. $N-mg\\cos\\alpha = m\\ddot{y}$\n",
    "3. $-R\\cdotF_f = I_{zz}\\ddot{\\theta}$\n",
    "\n",
    "where $\\alpha$ is the angle of the plane, $mg$ is the weight of the\n",
    "ball, $F_f$ is the force of friction between the ball and the slope, $N$\n",
    "is the normal force from the plane, $\\ddot{x}$ is the acceleration along\n",
    "the slope, $\\ddot{y}=0$ is the acceleration normal to the plane _which\n",
    "is zero if its rolling_, $I_{zz}=\\frac{2}{5}mR^2$ is the moment of\n",
    "inertia for a sphere, and $\\ddot{\\theta}$ is the angular acceleration\n",
    "of the ball. These three equations have four unknowns:\n",
    "\n",
    "__Unknown__:\n",
    "- $F_f$: force of friction\n",
    "- $N$: normal force\n",
    "- $\\ddot{x}$: acceleration\n",
    "- $\\ddot{\\theta}$: angular acceleration\n",
    "\n",
    "> __Note__: Friction is often introduced as Coulomb's friction law\n",
    "> $F_f=\\mu N$, where $\\mu$ is the coefficient of friction. With rolling\n",
    "> objects, the relationship is better represented by an inequality, $F_f\n",
    "> \\leq \\mu N$. Coulomb friction represents the upper bound on the force\n",
    "> of friction, it cannot be universally applied as an equality. \n",
    "\n",
    "## Solving for the motion of the ball on a slope\n",
    "\n",
    "You now have 1 constraint equation and 3 kinetic equations with four\n",
    "unknowns. You can set up the 4 equations and 4 unknowns\n",
    "\n",
    "1. $\\ddot{\\theta} = \\frac{\\ddot{x}}{R}$\n",
    "1. $g\\sin\\alpha - \\frac{F_f}{m} = \\ddot{x}$\n",
    "2. $\\frac{N}{m} = g\\cos\\alpha$\n",
    "3. $-R\\frac{F_f}{m} = -\\frac{2}{5}R^2 \\frac{\\ddot{x}}{R}$"
   ]
  },
  {
   "cell_type": "markdown",
   "id": "1e49bb3c",
   "metadata": {},
   "source": [
    "rearranging for $\\ddot{x}$, you can integrate using initial conditions $x(0) = \\dot{x}(0)=0$,\n",
    "\n",
    "$$\\ddot{x} =\\frac{g\\sin\\alpha}{1+\\frac{2}{5}}$$\n",
    "$$\\dot{x}(t) =\\frac{g\\sin\\alpha}{1+\\frac{2}{5}}t$$\n",
    "$$x(t) =\\frac{g\\sin\\alpha}{2(1+\\frac{2}{5})}t^2$$"
   ]
  },
  {
   "cell_type": "code",
   "execution_count": null,
   "id": "e7878cfd",
   "metadata": {},
   "outputs": [],
   "source": [
    "t = np.linspace(0, 1)\n",
    "a = 9.81*np.sin(5*np.pi/180)/(1+2/5)\n",
    "v = a*t\n",
    "x = a/2*t**2\n",
    "plt.plot(t, v)\n",
    "plt.plot(t, x)\n",
    "plt.xlabel('time (s)')\n",
    "plt.ylabel('position (m)')"
   ]
  },
  {
   "cell_type": "code",
   "execution_count": null,
   "id": "1f77068d",
   "metadata": {},
   "outputs": [],
   "source": [
    "plt.plot(t, x/0.01/np.pi/2)"
   ]
  },
  {
   "cell_type": "markdown",
   "id": "6087b206",
   "metadata": {},
   "source": [
    "## Wrapping up\n",
    "\n",
    "In this notebook, you \n",
    "- defined kinematic constraints for rolling\n",
    "- used a free body diagram and kinetic diagram to set up 3 planar equations of motion\n",
    "- integrated the equations of motion to plot the position and rotation of a ball rolling on a plane"
   ]
  }
 ],
 "metadata": {
  "jupytext": {
   "formats": "notebooks//ipynb,md:myst",
   "text_representation": {
    "extension": ".md",
    "format_name": "myst",
    "format_version": 0.12,
    "jupytext_version": "1.6.0"
   }
  },
  "kernelspec": {
   "display_name": "Python 3",
   "language": "python",
   "name": "python3"
  },
  "language_info": {
   "codemirror_mode": {
    "name": "ipython",
    "version": 3
   },
   "file_extension": ".py",
   "mimetype": "text/x-python",
   "name": "python",
   "nbconvert_exporter": "python",
   "pygments_lexer": "ipython3",
   "version": "3.9.0"
  },
  "source_map": [
   15,
   19,
   98,
   107,
   118,
   120
  ]
 },
 "nbformat": 4,
 "nbformat_minor": 5
}